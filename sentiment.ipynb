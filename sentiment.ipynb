{
 "cells": [
  {
   "cell_type": "code",
   "execution_count": 6,
   "id": "df2c2440-3fa7-4c4d-9d3c-a2416a40d36b",
   "metadata": {},
   "outputs": [
    {
     "name": "stderr",
     "output_type": "stream",
     "text": [
      "[nltk_data] Downloading package vader_lexicon to\n",
      "[nltk_data]     C:\\Users\\deii\\AppData\\Roaming\\nltk_data...\n",
      "[nltk_data]   Package vader_lexicon is already up-to-date!\n"
     ]
    },
    {
     "data": {
      "text/plain": [
       "True"
      ]
     },
     "execution_count": 6,
     "metadata": {},
     "output_type": "execute_result"
    }
   ],
   "source": [
    "import nltk\n",
    "nltk.download('vader_lexicon')\n"
   ]
  },
  {
   "cell_type": "code",
   "execution_count": 11,
   "id": "5872e028-96b8-4d2a-8ccd-498e180ff5dd",
   "metadata": {},
   "outputs": [
    {
     "name": "stderr",
     "output_type": "stream",
     "text": [
      "[nltk_data] Downloading package vader_lexicon to /your/custom/path...\n",
      "[nltk_data]   Package vader_lexicon is already up-to-date!\n",
      "[nltk_data] Downloading package punkt to\n",
      "[nltk_data]     C:\\Users\\deii\\AppData\\Roaming\\nltk_data...\n",
      "[nltk_data]   Unzipping tokenizers\\punkt.zip.\n"
     ]
    },
    {
     "data": {
      "text/plain": [
       "True"
      ]
     },
     "execution_count": 11,
     "metadata": {},
     "output_type": "execute_result"
    }
   ],
   "source": [
    "import nltk\n",
    "nltk.data.path.append('/your/custom/path')\n",
    "nltk.download('vader_lexicon', download_dir='/your/custom/path')\n",
    "import nltk\n",
    "nltk.download('punkt')\n",
    "\n"
   ]
  },
  {
   "cell_type": "code",
   "execution_count": 12,
   "id": "68b50f7f-2cd0-4d6f-a585-05aae0cf1de4",
   "metadata": {},
   "outputs": [
    {
     "name": "stdout",
     "output_type": "stream",
     "text": [
      "Sentiment Scores: {'neg': 0.094, 'neu': 0.724, 'pos': 0.183, 'compound': 0.9276}\n",
      "Sentence: \n",
      "Yesterday, I went to the new café in town.\n",
      "Sentiment: {'neg': 0.0, 'neu': 1.0, 'pos': 0.0, 'compound': 0.0}\n",
      "\n",
      "Sentence: The ambiance was absolutely delightful, with soft jazz music playing in the background and warm, inviting décor.\n",
      "Sentiment: {'neg': 0.0, 'neu': 0.563, 'pos': 0.437, 'compound': 0.8439}\n",
      "\n",
      "Sentence: The barista was incredibly friendly and recommended a specialty latte that turned out to be the best coffee I’ve ever had.\n",
      "Sentiment: {'neg': 0.0, 'neu': 0.635, 'pos': 0.365, 'compound': 0.8676}\n",
      "\n",
      "Sentence: However, the wait time was quite long, and the café was a bit crowded, which made it difficult to find a seat.\n",
      "Sentiment: {'neg': 0.116, 'neu': 0.884, 'pos': 0.0, 'compound': -0.3612}\n",
      "\n",
      "Sentence: Despite this, the overall experience was quite pleasant and I would definitely visit again.\n",
      "Sentiment: {'neg': 0.0, 'neu': 0.636, 'pos': 0.364, 'compound': 0.7425}\n",
      "\n",
      "Sentence: In contrast, my day at work was very frustrating.\n",
      "Sentiment: {'neg': 0.285, 'neu': 0.715, 'pos': 0.0, 'compound': -0.4927}\n",
      "\n",
      "Sentence: My computer crashed multiple times, causing me to lose important files.\n",
      "Sentiment: {'neg': 0.2, 'neu': 0.667, 'pos': 0.133, 'compound': -0.2263}\n",
      "\n",
      "Sentence: Additionally, a crucial meeting was delayed, and my colleagues seemed unusually uncooperative.\n",
      "Sentiment: {'neg': 0.16, 'neu': 0.84, 'pos': 0.0, 'compound': -0.2263}\n",
      "\n",
      "Sentence: To top it off, I received some negative feedback on a project I had worked hard on.\n",
      "Sentiment: {'neg': 0.285, 'neu': 0.615, 'pos': 0.101, 'compound': -0.5106}\n",
      "\n",
      "Sentence: It was just one of those days where nothing seemed to go right.\n",
      "Sentiment: {'neg': 0.0, 'neu': 1.0, 'pos': 0.0, 'compound': 0.0}\n",
      "\n"
     ]
    }
   ],
   "source": [
    "import nltk\n",
    "from nltk.sentiment.vader import SentimentIntensityAnalyzer\n",
    "\n",
    "# Initialize VADER sentiment analyzer (no need to download again)\n",
    "sid = SentimentIntensityAnalyzer()\n",
    "\n",
    "# Define the text for sentiment analysis\n",
    "text = \"\"\"\n",
    "Yesterday, I went to the new café in town. The ambiance was absolutely delightful, with soft jazz music playing in the background and warm, inviting décor. The barista was incredibly friendly and recommended a specialty latte that turned out to be the best coffee I’ve ever had. However, the wait time was quite long, and the café was a bit crowded, which made it difficult to find a seat. Despite this, the overall experience was quite pleasant and I would definitely visit again.\n",
    "\n",
    "In contrast, my day at work was very frustrating. My computer crashed multiple times, causing me to lose important files. Additionally, a crucial meeting was delayed, and my colleagues seemed unusually uncooperative. To top it off, I received some negative feedback on a project I had worked hard on. It was just one of those days where nothing seemed to go right.\n",
    "\"\"\"\n",
    "\n",
    "# Perform sentiment analysis\n",
    "sentiment_scores = sid.polarity_scores(text)\n",
    "\n",
    "# Output the results\n",
    "print(\"Sentiment Scores:\", sentiment_scores)\n",
    "\n",
    "# Optional: Break the text into sentences and analyze each one individually\n",
    "from nltk.tokenize import sent_tokenize\n",
    "\n",
    "sentences = sent_tokenize(text)\n",
    "for sentence in sentences:\n",
    "    sentiment = sid.polarity_scores(sentence)\n",
    "    print(f\"Sentence: {sentence}\\nSentiment: {sentiment}\\n\")\n"
   ]
  },
  {
   "cell_type": "code",
   "execution_count": null,
   "id": "78cbed3c-6489-4ed2-9a05-f0fa23bdfddb",
   "metadata": {},
   "outputs": [],
   "source": []
  }
 ],
 "metadata": {
  "kernelspec": {
   "display_name": "Python 3 (ipykernel)",
   "language": "python",
   "name": "python3"
  },
  "language_info": {
   "codemirror_mode": {
    "name": "ipython",
    "version": 3
   },
   "file_extension": ".py",
   "mimetype": "text/x-python",
   "name": "python",
   "nbconvert_exporter": "python",
   "pygments_lexer": "ipython3",
   "version": "3.12.1"
  }
 },
 "nbformat": 4,
 "nbformat_minor": 5
}
